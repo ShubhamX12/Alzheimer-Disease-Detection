{
  "cells": [
    {
      "cell_type": "code",
      "execution_count": 1,
      "id": "ae396d14",
      "metadata": {
        "_cell_guid": "b1076dfc-b9ad-4769-8c92-a6c4dae69d19",
        "_uuid": "8f2839f25d086af736a60e9eeb907d3b93b6e0e5",
        "execution": {
          "iopub.execute_input": "2022-06-06T05:49:13.319397Z",
          "iopub.status.busy": "2022-06-06T05:49:13.318172Z",
          "iopub.status.idle": "2022-06-06T05:49:28.285133Z",
          "shell.execute_reply": "2022-06-06T05:49:28.283814Z"
        },
        "papermill": {
          "duration": 14.979111,
          "end_time": "2022-06-06T05:49:28.288222",
          "exception": false,
          "start_time": "2022-06-06T05:49:13.309111",
          "status": "completed"
        },
        "tags": [],
        "id": "ae396d14"
      },
      "outputs": [],
      "source": [
        "! mkdir ~/.kaggle\n",
        "! cp kaggle.json ~/.kaggle/"
      ]
    },
    {
      "cell_type": "code",
      "source": [
        "! chmod 600 ~/.kaggle/kaggle.json\n"
      ],
      "metadata": {
        "id": "zj63SGenT9VB"
      },
      "id": "zj63SGenT9VB",
      "execution_count": 2,
      "outputs": []
    },
    {
      "cell_type": "code",
      "source": [
        "from google.colab import drive\n",
        "drive.mount('/content/gdrive')"
      ],
      "metadata": {
        "id": "3176M6-aayL5",
        "outputId": "c80b1c87-98e3-4690-e786-8fe85babd3d1",
        "colab": {
          "base_uri": "https://localhost:8080/"
        }
      },
      "id": "3176M6-aayL5",
      "execution_count": 24,
      "outputs": [
        {
          "output_type": "stream",
          "name": "stdout",
          "text": [
            "Mounted at /content/gdrive\n"
          ]
        }
      ]
    },
    {
      "cell_type": "code",
      "source": [
        "!kaggle datasets download -d tourist55/alzheimers-dataset-4-class-of-images"
      ],
      "metadata": {
        "id": "MPewvKrjUI6Y",
        "outputId": "5c463e17-e002-4ebd-b73d-04451b6cdcd4",
        "colab": {
          "base_uri": "https://localhost:8080/"
        }
      },
      "id": "MPewvKrjUI6Y",
      "execution_count": 3,
      "outputs": [
        {
          "output_type": "stream",
          "name": "stdout",
          "text": [
            "Downloading alzheimers-dataset-4-class-of-images.zip to /content\n",
            "100% 34.0M/34.1M [00:03<00:00, 17.0MB/s]\n",
            "100% 34.1M/34.1M [00:03<00:00, 9.62MB/s]\n"
          ]
        }
      ]
    },
    {
      "cell_type": "markdown",
      "source": [],
      "metadata": {
        "id": "UmkoS1MaX6xf"
      },
      "id": "UmkoS1MaX6xf"
    },
    {
      "cell_type": "code",
      "source": [
        "import zipfile\n",
        "zip_ref=zipfile.ZipFile(\"/content/alzheimers-dataset-4-class-of-images.zip\",\"r\")\n",
        "zip_ref.extractall('/content')\n",
        "zip_ref.close();"
      ],
      "metadata": {
        "id": "Y99ePk8vUNKY"
      },
      "id": "Y99ePk8vUNKY",
      "execution_count": 9,
      "outputs": []
    },
    {
      "cell_type": "code",
      "source": [
        "\n",
        "!pip install split_folders"
      ],
      "metadata": {
        "id": "NUqdRMNtT61C",
        "outputId": "44b6583f-a263-4b97-cb44-a929c28b4c96",
        "colab": {
          "base_uri": "https://localhost:8080/"
        }
      },
      "id": "NUqdRMNtT61C",
      "execution_count": 5,
      "outputs": [
        {
          "output_type": "stream",
          "name": "stdout",
          "text": [
            "Looking in indexes: https://pypi.org/simple, https://us-python.pkg.dev/colab-wheels/public/simple/\n",
            "Collecting split_folders\n",
            "  Downloading split_folders-0.5.1-py3-none-any.whl (8.4 kB)\n",
            "Installing collected packages: split-folders\n",
            "Successfully installed split-folders-0.5.1\n"
          ]
        }
      ]
    },
    {
      "cell_type": "code",
      "execution_count": 6,
      "id": "eeb18ecd",
      "metadata": {
        "execution": {
          "iopub.execute_input": "2022-06-06T05:49:28.303489Z",
          "iopub.status.busy": "2022-06-06T05:49:28.303100Z",
          "iopub.status.idle": "2022-06-06T05:49:28.313723Z",
          "shell.execute_reply": "2022-06-06T05:49:28.312806Z"
        },
        "papermill": {
          "duration": 0.020334,
          "end_time": "2022-06-06T05:49:28.315941",
          "exception": false,
          "start_time": "2022-06-06T05:49:28.295607",
          "status": "completed"
        },
        "tags": [],
        "id": "eeb18ecd",
        "outputId": "4b8d584c-1a3e-42c6-8f26-dffde2b96a60",
        "colab": {
          "base_uri": "https://localhost:8080/"
        }
      },
      "outputs": [
        {
          "output_type": "stream",
          "name": "stdout",
          "text": [
            "Looking in indexes: https://pypi.org/simple, https://us-python.pkg.dev/colab-wheels/public/simple/\n",
            "Collecting keras-tuner\n",
            "  Downloading keras_tuner-1.1.3-py3-none-any.whl (135 kB)\n",
            "\u001b[K     |████████████████████████████████| 135 kB 30.1 MB/s \n",
            "\u001b[?25hRequirement already satisfied: packaging in /usr/local/lib/python3.7/dist-packages (from keras-tuner) (21.3)\n",
            "Requirement already satisfied: tensorboard in /usr/local/lib/python3.7/dist-packages (from keras-tuner) (2.9.1)\n",
            "Requirement already satisfied: requests in /usr/local/lib/python3.7/dist-packages (from keras-tuner) (2.23.0)\n",
            "Requirement already satisfied: numpy in /usr/local/lib/python3.7/dist-packages (from keras-tuner) (1.21.6)\n",
            "Requirement already satisfied: ipython in /usr/local/lib/python3.7/dist-packages (from keras-tuner) (7.9.0)\n",
            "Collecting kt-legacy\n",
            "  Downloading kt_legacy-1.0.4-py3-none-any.whl (9.6 kB)\n",
            "Requirement already satisfied: prompt-toolkit<2.1.0,>=2.0.0 in /usr/local/lib/python3.7/dist-packages (from ipython->keras-tuner) (2.0.10)\n",
            "Requirement already satisfied: pexpect in /usr/local/lib/python3.7/dist-packages (from ipython->keras-tuner) (4.8.0)\n",
            "Requirement already satisfied: decorator in /usr/local/lib/python3.7/dist-packages (from ipython->keras-tuner) (4.4.2)\n",
            "Requirement already satisfied: setuptools>=18.5 in /usr/local/lib/python3.7/dist-packages (from ipython->keras-tuner) (57.4.0)\n",
            "Requirement already satisfied: pickleshare in /usr/local/lib/python3.7/dist-packages (from ipython->keras-tuner) (0.7.5)\n",
            "Requirement already satisfied: backcall in /usr/local/lib/python3.7/dist-packages (from ipython->keras-tuner) (0.2.0)\n",
            "Requirement already satisfied: traitlets>=4.2 in /usr/local/lib/python3.7/dist-packages (from ipython->keras-tuner) (5.1.1)\n",
            "Requirement already satisfied: pygments in /usr/local/lib/python3.7/dist-packages (from ipython->keras-tuner) (2.6.1)\n",
            "Collecting jedi>=0.10\n",
            "  Downloading jedi-0.18.2-py2.py3-none-any.whl (1.6 MB)\n",
            "\u001b[K     |████████████████████████████████| 1.6 MB 47.2 MB/s \n",
            "\u001b[?25hRequirement already satisfied: parso<0.9.0,>=0.8.0 in /usr/local/lib/python3.7/dist-packages (from jedi>=0.10->ipython->keras-tuner) (0.8.3)\n",
            "Requirement already satisfied: six>=1.9.0 in /usr/local/lib/python3.7/dist-packages (from prompt-toolkit<2.1.0,>=2.0.0->ipython->keras-tuner) (1.15.0)\n",
            "Requirement already satisfied: wcwidth in /usr/local/lib/python3.7/dist-packages (from prompt-toolkit<2.1.0,>=2.0.0->ipython->keras-tuner) (0.2.5)\n",
            "Requirement already satisfied: pyparsing!=3.0.5,>=2.0.2 in /usr/local/lib/python3.7/dist-packages (from packaging->keras-tuner) (3.0.9)\n",
            "Requirement already satisfied: ptyprocess>=0.5 in /usr/local/lib/python3.7/dist-packages (from pexpect->ipython->keras-tuner) (0.7.0)\n",
            "Requirement already satisfied: chardet<4,>=3.0.2 in /usr/local/lib/python3.7/dist-packages (from requests->keras-tuner) (3.0.4)\n",
            "Requirement already satisfied: idna<3,>=2.5 in /usr/local/lib/python3.7/dist-packages (from requests->keras-tuner) (2.10)\n",
            "Requirement already satisfied: urllib3!=1.25.0,!=1.25.1,<1.26,>=1.21.1 in /usr/local/lib/python3.7/dist-packages (from requests->keras-tuner) (1.24.3)\n",
            "Requirement already satisfied: certifi>=2017.4.17 in /usr/local/lib/python3.7/dist-packages (from requests->keras-tuner) (2022.9.24)\n",
            "Requirement already satisfied: grpcio>=1.24.3 in /usr/local/lib/python3.7/dist-packages (from tensorboard->keras-tuner) (1.50.0)\n",
            "Requirement already satisfied: google-auth<3,>=1.6.3 in /usr/local/lib/python3.7/dist-packages (from tensorboard->keras-tuner) (2.14.1)\n",
            "Requirement already satisfied: wheel>=0.26 in /usr/local/lib/python3.7/dist-packages (from tensorboard->keras-tuner) (0.38.4)\n",
            "Requirement already satisfied: protobuf<3.20,>=3.9.2 in /usr/local/lib/python3.7/dist-packages (from tensorboard->keras-tuner) (3.19.6)\n",
            "Requirement already satisfied: tensorboard-plugin-wit>=1.6.0 in /usr/local/lib/python3.7/dist-packages (from tensorboard->keras-tuner) (1.8.1)\n",
            "Requirement already satisfied: tensorboard-data-server<0.7.0,>=0.6.0 in /usr/local/lib/python3.7/dist-packages (from tensorboard->keras-tuner) (0.6.1)\n",
            "Requirement already satisfied: werkzeug>=1.0.1 in /usr/local/lib/python3.7/dist-packages (from tensorboard->keras-tuner) (1.0.1)\n",
            "Requirement already satisfied: absl-py>=0.4 in /usr/local/lib/python3.7/dist-packages (from tensorboard->keras-tuner) (1.3.0)\n",
            "Requirement already satisfied: markdown>=2.6.8 in /usr/local/lib/python3.7/dist-packages (from tensorboard->keras-tuner) (3.4.1)\n",
            "Requirement already satisfied: google-auth-oauthlib<0.5,>=0.4.1 in /usr/local/lib/python3.7/dist-packages (from tensorboard->keras-tuner) (0.4.6)\n",
            "Requirement already satisfied: cachetools<6.0,>=2.0.0 in /usr/local/lib/python3.7/dist-packages (from google-auth<3,>=1.6.3->tensorboard->keras-tuner) (5.2.0)\n",
            "Requirement already satisfied: pyasn1-modules>=0.2.1 in /usr/local/lib/python3.7/dist-packages (from google-auth<3,>=1.6.3->tensorboard->keras-tuner) (0.2.8)\n",
            "Requirement already satisfied: rsa<5,>=3.1.4 in /usr/local/lib/python3.7/dist-packages (from google-auth<3,>=1.6.3->tensorboard->keras-tuner) (4.9)\n",
            "Requirement already satisfied: requests-oauthlib>=0.7.0 in /usr/local/lib/python3.7/dist-packages (from google-auth-oauthlib<0.5,>=0.4.1->tensorboard->keras-tuner) (1.3.1)\n",
            "Requirement already satisfied: importlib-metadata>=4.4 in /usr/local/lib/python3.7/dist-packages (from markdown>=2.6.8->tensorboard->keras-tuner) (4.13.0)\n",
            "Requirement already satisfied: zipp>=0.5 in /usr/local/lib/python3.7/dist-packages (from importlib-metadata>=4.4->markdown>=2.6.8->tensorboard->keras-tuner) (3.10.0)\n",
            "Requirement already satisfied: typing-extensions>=3.6.4 in /usr/local/lib/python3.7/dist-packages (from importlib-metadata>=4.4->markdown>=2.6.8->tensorboard->keras-tuner) (4.1.1)\n",
            "Requirement already satisfied: pyasn1<0.5.0,>=0.4.6 in /usr/local/lib/python3.7/dist-packages (from pyasn1-modules>=0.2.1->google-auth<3,>=1.6.3->tensorboard->keras-tuner) (0.4.8)\n",
            "Requirement already satisfied: oauthlib>=3.0.0 in /usr/local/lib/python3.7/dist-packages (from requests-oauthlib>=0.7.0->google-auth-oauthlib<0.5,>=0.4.1->tensorboard->keras-tuner) (3.2.2)\n",
            "Installing collected packages: jedi, kt-legacy, keras-tuner\n",
            "Successfully installed jedi-0.18.2 keras-tuner-1.1.3 kt-legacy-1.0.4\n"
          ]
        }
      ],
      "source": [
        "import splitfolders\n",
        "!pip install keras-tuner --upgrade"
      ]
    },
    {
      "cell_type": "code",
      "execution_count": 7,
      "id": "e59ffae7",
      "metadata": {
        "execution": {
          "iopub.execute_input": "2022-06-06T05:49:28.329404Z",
          "iopub.status.busy": "2022-06-06T05:49:28.329060Z",
          "iopub.status.idle": "2022-06-06T05:49:36.911399Z",
          "shell.execute_reply": "2022-06-06T05:49:36.910298Z"
        },
        "papermill": {
          "duration": 8.59207,
          "end_time": "2022-06-06T05:49:36.914118",
          "exception": false,
          "start_time": "2022-06-06T05:49:28.322048",
          "status": "completed"
        },
        "tags": [],
        "id": "e59ffae7"
      },
      "outputs": [],
      "source": [
        "import numpy as np \n",
        "import pandas as pd \n",
        "import time\n",
        "import itertools\n",
        "\n",
        "import os\n",
        "import os.path\n",
        "from   os import path\n",
        "import shutil\n",
        "\n",
        "from sklearn.metrics import confusion_matrix\n",
        "from sklearn.metrics import classification_report\n",
        "\n",
        "import tensorflow as tf\n",
        "import keras_tuner as kt\n",
        "from tensorflow import keras\n",
        "from tensorflow.keras.models import Model\n",
        "from tensorflow.keras import backend, models, layers, Sequential\n",
        "from tensorflow.keras.layers import Input, Concatenate, Dense, Dropout, Flatten, Add\n",
        "from tensorflow.keras.layers import Conv2D, MaxPooling2D\n",
        "from tensorflow.keras.layers import BatchNormalization\n",
        "from tensorflow.keras.callbacks import EarlyStopping\n",
        "from tensorflow.keras.applications import InceptionV3\n"
      ]
    },
    {
      "cell_type": "code",
      "execution_count": 8,
      "id": "d1be3bcf",
      "metadata": {
        "execution": {
          "iopub.execute_input": "2022-06-06T05:49:36.928200Z",
          "iopub.status.busy": "2022-06-06T05:49:36.927548Z",
          "iopub.status.idle": "2022-06-06T05:49:37.359969Z",
          "shell.execute_reply": "2022-06-06T05:49:37.358743Z"
        },
        "papermill": {
          "duration": 0.442065,
          "end_time": "2022-06-06T05:49:37.362609",
          "exception": false,
          "start_time": "2022-06-06T05:49:36.920544",
          "status": "completed"
        },
        "tags": [],
        "id": "d1be3bcf"
      },
      "outputs": [],
      "source": [
        "from skimage import io\n",
        "import matplotlib.pyplot as plt\n",
        "import tensorflow.keras.preprocessing\n",
        "from tensorflow.keras.preprocessing.image import ImageDataGenerator "
      ]
    },
    {
      "cell_type": "code",
      "execution_count": 10,
      "id": "597b6de1",
      "metadata": {
        "execution": {
          "iopub.execute_input": "2022-06-06T05:49:37.378351Z",
          "iopub.status.busy": "2022-06-06T05:49:37.377524Z",
          "iopub.status.idle": "2022-06-06T05:49:37.385488Z",
          "shell.execute_reply": "2022-06-06T05:49:37.384366Z"
        },
        "papermill": {
          "duration": 0.018552,
          "end_time": "2022-06-06T05:49:37.387932",
          "exception": false,
          "start_time": "2022-06-06T05:49:37.369380",
          "status": "completed"
        },
        "tags": [],
        "id": "597b6de1"
      },
      "outputs": [],
      "source": [
        "FOLDERS     = ['train','val','test']\n",
        "DIR_INPUT   = '/content/Alzheimer_s Dataset'\n",
        "DIR_WORK    = './'\n",
        "DIR_MODELS  = os.path.join(DIR_WORK,'models')\n",
        "DIR_TRAIN   = os.path.join(DIR_WORK,'train')\n",
        "DIR_VAL     = os.path.join(DIR_WORK,'val')\n",
        "DIR_TEST    = os.path.join(DIR_WORK,'test')\n",
        "CLASS_LIST  = ['MildDememted','ModerateDemented','NonDememted','VeryMildDemented']\n",
        "\n",
        "SEED        = 1999\n",
        "tf.random.set_seed(SEED)\n",
        "np.random.seed(SEED)"
      ]
    },
    {
      "cell_type": "code",
      "execution_count": 11,
      "id": "1db2eb60",
      "metadata": {
        "execution": {
          "iopub.execute_input": "2022-06-06T05:49:37.403514Z",
          "iopub.status.busy": "2022-06-06T05:49:37.403082Z",
          "iopub.status.idle": "2022-06-06T05:49:37.416424Z",
          "shell.execute_reply": "2022-06-06T05:49:37.415186Z"
        },
        "papermill": {
          "duration": 0.026517,
          "end_time": "2022-06-06T05:49:37.421581",
          "exception": false,
          "start_time": "2022-06-06T05:49:37.395064",
          "status": "completed"
        },
        "tags": [],
        "id": "1db2eb60",
        "outputId": "d512fb1d-8c7b-4ddd-8863-54592068c7ac",
        "colab": {
          "base_uri": "https://localhost:8080/",
          "height": 53
        }
      },
      "outputs": [
        {
          "output_type": "stream",
          "name": "stdout",
          "text": [
            "./models created\n"
          ]
        },
        {
          "output_type": "execute_result",
          "data": {
            "text/plain": [
              "'./models'"
            ],
            "application/vnd.google.colaboratory.intrinsic+json": {
              "type": "string"
            }
          },
          "metadata": {},
          "execution_count": 11
        }
      ],
      "source": [
        "def create_dir(dir_path,folder,verbose=True):\n",
        "    msg = \"\"\n",
        "    folder_path = os.path.join(dir_path,folder)\n",
        "    if not path.exists(folder_path):\n",
        "        try:\n",
        "            os.mkdir(folder_path)\n",
        "            msg = folder_path + ' created'\n",
        "        except OSError as err:\n",
        "            print('Error creating folder:{} with error:{}'.format(folder_path,err))\n",
        "    if verbose:\n",
        "        print(msg)\n",
        "    return folder_path\n",
        "create_dir(DIR_WORK,'models',True)"
      ]
    },
    {
      "cell_type": "code",
      "execution_count": 12,
      "id": "885fbd14",
      "metadata": {
        "execution": {
          "iopub.execute_input": "2022-06-06T05:49:37.437609Z",
          "iopub.status.busy": "2022-06-06T05:49:37.436665Z",
          "iopub.status.idle": "2022-06-06T05:50:11.927278Z",
          "shell.execute_reply": "2022-06-06T05:50:11.926179Z"
        },
        "papermill": {
          "duration": 34.501179,
          "end_time": "2022-06-06T05:50:11.929834",
          "exception": false,
          "start_time": "2022-06-06T05:49:37.428655",
          "status": "completed"
        },
        "tags": [],
        "id": "885fbd14",
        "outputId": "299a8429-2127-431b-afa8-e24bf9a3bb39",
        "colab": {
          "base_uri": "https://localhost:8080/"
        }
      },
      "outputs": [
        {
          "output_type": "stream",
          "name": "stderr",
          "text": [
            "Copying files: 5121 files [00:00, 7189.41 files/s]\n"
          ]
        }
      ],
      "source": [
        "def resample_train_val_images(input_dir,working_dir,seed=SEED,split = (0.80,0.20)):\n",
        "    dir_test   = os.path.join(input_dir,'test')\n",
        "    dir_train  = os.path.join(input_dir,'train')\n",
        "    for folder in FOLDERS:\n",
        "        if path.exists(os.path.join(working_dir,folder)):\n",
        "            shutil.rmtree(os.path.join(working_dir,folder))\n",
        "            \n",
        "    splitfolders.ratio(dir_train, working_dir, seed=seed, ratio=split)\n",
        "    shutil.copytree(dir_test, os.path.join(working_dir,'test'))\n",
        "    \n",
        "resample_train_val_images(DIR_INPUT,DIR_WORK)"
      ]
    },
    {
      "cell_type": "code",
      "execution_count": 13,
      "id": "3d24997e",
      "metadata": {
        "execution": {
          "iopub.execute_input": "2022-06-06T05:50:11.978802Z",
          "iopub.status.busy": "2022-06-06T05:50:11.978452Z",
          "iopub.status.idle": "2022-06-06T05:50:12.510924Z",
          "shell.execute_reply": "2022-06-06T05:50:12.508421Z"
        },
        "papermill": {
          "duration": 0.559694,
          "end_time": "2022-06-06T05:50:12.513323",
          "exception": false,
          "start_time": "2022-06-06T05:50:11.953629",
          "status": "completed"
        },
        "tags": [],
        "id": "3d24997e",
        "outputId": "c1917f52-3795-43ae-addb-09f88e38dff0",
        "colab": {
          "base_uri": "https://localhost:8080/"
        }
      },
      "outputs": [
        {
          "output_type": "stream",
          "name": "stdout",
          "text": [
            "Found 4095 images belonging to 4 classes.\n",
            "Found 1026 images belonging to 4 classes.\n",
            "Found 1279 images belonging to 4 classes.\n"
          ]
        }
      ],
      "source": [
        "IMG_SIZE = [176,208]\n",
        "BATCH_SIZE = 32\n",
        "\n",
        "train_images = ImageDataGenerator(rescale  = 1./255)\n",
        "val_images   = ImageDataGenerator(rescale  = 1./255)\n",
        "test_images  = ImageDataGenerator(rescale  = 1./255)\n",
        "\n",
        "\n",
        "train_gen =train_images.flow_from_directory(\n",
        "    DIR_TRAIN,\n",
        "    target_size = IMG_SIZE,\n",
        "    batch_size  = BATCH_SIZE,\n",
        "    class_mode  = 'categorical',\n",
        "    color_mode  = 'rgb',        \n",
        "    seed        = SEED \n",
        ")\n",
        "\n",
        "val_gen = val_images.flow_from_directory(\n",
        "    DIR_VAL,\n",
        "    target_size = IMG_SIZE,\n",
        "    batch_size  = BATCH_SIZE,\n",
        "    class_mode  = 'categorical',\n",
        "    color_mode  = 'rgb',        \n",
        "    seed        = SEED\n",
        ")\n",
        "\n",
        "test_gen = test_images.flow_from_directory(\n",
        "    DIR_TEST,\n",
        "    target_size = IMG_SIZE,\n",
        "    batch_size  = BATCH_SIZE,\n",
        "    class_mode  = 'categorical',\n",
        "    color_mode  = 'rgb',         \n",
        "    seed        = SEED,\n",
        "    shuffle     = False\n",
        ")\n"
      ]
    },
    {
      "cell_type": "code",
      "execution_count": 14,
      "id": "b76f00a5",
      "metadata": {
        "execution": {
          "iopub.execute_input": "2022-06-06T05:50:12.560278Z",
          "iopub.status.busy": "2022-06-06T05:50:12.559813Z",
          "iopub.status.idle": "2022-06-06T05:50:12.569527Z",
          "shell.execute_reply": "2022-06-06T05:50:12.567948Z"
        },
        "papermill": {
          "duration": 0.035682,
          "end_time": "2022-06-06T05:50:12.571760",
          "exception": false,
          "start_time": "2022-06-06T05:50:12.536078",
          "status": "completed"
        },
        "tags": [],
        "id": "b76f00a5"
      },
      "outputs": [],
      "source": [
        "def freeze_layers(base,conv_num=\"conv5\",block_num=1,max_block_num=16,trainable_layers='some'):\n",
        "\n",
        "    if trainable_layers=='none':\n",
        "        base.trainable = False\n",
        "        print(\"No Layers Trainable: Using Base Model Weights\")\n",
        "    if trainable_layers=='all':\n",
        "        base.trainable =True\n",
        "        print(\"All Layers Trainable: Base Model will be fully trained\")\n",
        "    \n",
        "    if trainable_layers=='some':\n",
        "        \n",
        "        print(\"Some Layers of the Model will be Trainable:\")\n",
        "        base.trainable = False\n",
        "        print('layer','\\t\\t\\t','trainable')\n",
        "        for block in range(block_num,max_block_num+1):\n",
        "            for layer in conv_base.layers:\n",
        "                if block>=block_num:\n",
        "                    if conv_num +\"_block\"+str(block) in layer.name:\n",
        "                        layer.trainable = True\n",
        "                        print(layer.name,'\\t',layer.trainable)\n",
        "                    \n",
        "                    "
      ]
    },
    {
      "cell_type": "code",
      "execution_count": 15,
      "id": "94a27bc5",
      "metadata": {
        "execution": {
          "iopub.execute_input": "2022-06-06T05:50:12.619264Z",
          "iopub.status.busy": "2022-06-06T05:50:12.618843Z",
          "iopub.status.idle": "2022-06-06T05:50:12.626501Z",
          "shell.execute_reply": "2022-06-06T05:50:12.625438Z"
        },
        "papermill": {
          "duration": 0.033397,
          "end_time": "2022-06-06T05:50:12.628615",
          "exception": false,
          "start_time": "2022-06-06T05:50:12.595218",
          "status": "completed"
        },
        "tags": [],
        "id": "94a27bc5"
      },
      "outputs": [],
      "source": [
        "def build_transfer_model(conv_base,dropout,dense_node,learn_rate,metric):\n",
        "    backend.clear_session()\n",
        "    model = Sequential()\n",
        "    model.add(conv_base)\n",
        "    model.add(Dropout(dropout))\n",
        "    model.add(BatchNormalization())\n",
        "    model.add(Flatten())\n",
        "    model.add(Dense(dense_node,activation='relu'))\n",
        "    model.add(Dense(4,activation='softmax'))\n",
        "    model.compile(\n",
        "        optimizer = tensorflow.keras.optimizers.Adam(lr=learn_rate),\n",
        "        loss      = 'categorical_crossentropy', \n",
        "        metrics   = metric ) \n",
        "    model.summary()\n",
        "    return model"
      ]
    },
    {
      "cell_type": "code",
      "execution_count": 16,
      "id": "f32d6083",
      "metadata": {
        "execution": {
          "iopub.execute_input": "2022-06-06T05:50:12.676065Z",
          "iopub.status.busy": "2022-06-06T05:50:12.675279Z",
          "iopub.status.idle": "2022-06-06T05:50:16.836869Z",
          "shell.execute_reply": "2022-06-06T05:50:16.835782Z"
        },
        "papermill": {
          "duration": 4.188863,
          "end_time": "2022-06-06T05:50:16.840095",
          "exception": false,
          "start_time": "2022-06-06T05:50:12.651232",
          "status": "completed"
        },
        "tags": [],
        "id": "f32d6083"
      },
      "outputs": [],
      "source": [
        "EPOCHS        = 25\n",
        "early_stoping = EarlyStopping(monitor = 'val_auc',patience = 5,restore_best_weights=True, verbose=1)\n",
        "callbacks     = [early_stoping]\n",
        "metrics       = [tf.keras.metrics.AUC(name='auc')]"
      ]
    },
    {
      "cell_type": "code",
      "execution_count": 17,
      "id": "c4ff2ce0",
      "metadata": {
        "execution": {
          "iopub.execute_input": "2022-06-06T05:50:16.888007Z",
          "iopub.status.busy": "2022-06-06T05:50:16.887549Z",
          "iopub.status.idle": "2022-06-06T05:55:06.854925Z",
          "shell.execute_reply": "2022-06-06T05:55:06.853627Z"
        },
        "papermill": {
          "duration": 289.994367,
          "end_time": "2022-06-06T05:55:06.857697",
          "exception": false,
          "start_time": "2022-06-06T05:50:16.863330",
          "status": "completed"
        },
        "tags": [],
        "id": "c4ff2ce0",
        "outputId": "446414e9-cf21-4b58-87a0-139253b84233",
        "colab": {
          "base_uri": "https://localhost:8080/"
        }
      },
      "outputs": [
        {
          "output_type": "stream",
          "name": "stdout",
          "text": [
            "Downloading data from https://storage.googleapis.com/tensorflow/keras-applications/inception_v3/inception_v3_weights_tf_dim_ordering_tf_kernels_notop.h5\n",
            "87910968/87910968 [==============================] - 7s 0us/step\n",
            "No Layers Trainable: Using Base Model Weights\n",
            "Model: \"sequential\"\n",
            "_________________________________________________________________\n",
            " Layer (type)                Output Shape              Param #   \n",
            "=================================================================\n",
            " inception_v3 (Functional)   (None, 4, 5, 2048)        21802784  \n",
            "                                                                 \n",
            " dropout (Dropout)           (None, 4, 5, 2048)        0         \n",
            "                                                                 \n",
            " batch_normalization (BatchN  (None, 4, 5, 2048)       8192      \n",
            " ormalization)                                                   \n",
            "                                                                 \n",
            " flatten (Flatten)           (None, 40960)             0         \n",
            "                                                                 \n",
            " dense (Dense)               (None, 512)               20972032  \n",
            "                                                                 \n",
            " dense_1 (Dense)             (None, 4)                 2052      \n",
            "                                                                 \n",
            "=================================================================\n",
            "Total params: 42,785,060\n",
            "Trainable params: 20,978,180\n",
            "Non-trainable params: 21,806,880\n",
            "_________________________________________________________________\n"
          ]
        },
        {
          "output_type": "stream",
          "name": "stderr",
          "text": [
            "/usr/local/lib/python3.7/dist-packages/keras/optimizers/optimizer_v2/adam.py:110: UserWarning: The `lr` argument is deprecated, use `learning_rate` instead.\n",
            "  super(Adam, self).__init__(name, **kwargs)\n"
          ]
        },
        {
          "output_type": "stream",
          "name": "stdout",
          "text": [
            "Epoch 1/25\n",
            "128/128 - 26s - loss: 1.8823 - auc: 0.8145 - val_loss: 0.7368 - val_auc: 0.9053 - 26s/epoch - 201ms/step\n",
            "Epoch 2/25\n",
            "128/128 - 9s - loss: 0.6846 - auc: 0.9139 - val_loss: 0.7915 - val_auc: 0.8818 - 9s/epoch - 72ms/step\n",
            "Epoch 3/25\n",
            "128/128 - 9s - loss: 0.5046 - auc: 0.9548 - val_loss: 0.5505 - val_auc: 0.9470 - 9s/epoch - 73ms/step\n",
            "Epoch 4/25\n",
            "128/128 - 9s - loss: 0.3784 - auc: 0.9742 - val_loss: 0.4830 - val_auc: 0.9580 - 9s/epoch - 73ms/step\n",
            "Epoch 5/25\n",
            "128/128 - 10s - loss: 0.2537 - auc: 0.9887 - val_loss: 0.4324 - val_auc: 0.9678 - 10s/epoch - 76ms/step\n",
            "Epoch 6/25\n",
            "128/128 - 10s - loss: 0.1965 - auc: 0.9928 - val_loss: 0.4538 - val_auc: 0.9652 - 10s/epoch - 75ms/step\n",
            "Epoch 7/25\n",
            "128/128 - 10s - loss: 0.1372 - auc: 0.9965 - val_loss: 0.3406 - val_auc: 0.9796 - 10s/epoch - 75ms/step\n",
            "Epoch 8/25\n",
            "128/128 - 10s - loss: 0.1134 - auc: 0.9973 - val_loss: 0.3831 - val_auc: 0.9748 - 10s/epoch - 75ms/step\n",
            "Epoch 9/25\n",
            "128/128 - 11s - loss: 0.1080 - auc: 0.9972 - val_loss: 0.3237 - val_auc: 0.9813 - 11s/epoch - 82ms/step\n",
            "Epoch 10/25\n",
            "128/128 - 10s - loss: 0.0880 - auc: 0.9984 - val_loss: 0.4649 - val_auc: 0.9685 - 10s/epoch - 75ms/step\n",
            "Epoch 11/25\n",
            "128/128 - 10s - loss: 0.0910 - auc: 0.9983 - val_loss: 0.4302 - val_auc: 0.9740 - 10s/epoch - 74ms/step\n",
            "Epoch 12/25\n",
            "128/128 - 10s - loss: 0.0719 - auc: 0.9989 - val_loss: 0.3676 - val_auc: 0.9777 - 10s/epoch - 74ms/step\n",
            "Epoch 13/25\n",
            "128/128 - 10s - loss: 0.0602 - auc: 0.9991 - val_loss: 0.3894 - val_auc: 0.9752 - 10s/epoch - 80ms/step\n",
            "Epoch 14/25\n",
            "128/128 - 10s - loss: 0.0885 - auc: 0.9979 - val_loss: 0.3632 - val_auc: 0.9778 - 10s/epoch - 74ms/step\n",
            "Epoch 15/25\n",
            "128/128 - 10s - loss: 0.0827 - auc: 0.9983 - val_loss: 0.7174 - val_auc: 0.9487 - 10s/epoch - 74ms/step\n",
            "Epoch 16/25\n",
            "128/128 - 10s - loss: 0.0661 - auc: 0.9987 - val_loss: 0.3223 - val_auc: 0.9839 - 10s/epoch - 75ms/step\n",
            "Epoch 17/25\n",
            "128/128 - 10s - loss: 0.0560 - auc: 0.9993 - val_loss: 0.4105 - val_auc: 0.9742 - 10s/epoch - 75ms/step\n",
            "Epoch 18/25\n",
            "128/128 - 10s - loss: 0.0556 - auc: 0.9990 - val_loss: 0.3167 - val_auc: 0.9825 - 10s/epoch - 75ms/step\n",
            "Epoch 19/25\n",
            "128/128 - 10s - loss: 0.0469 - auc: 0.9988 - val_loss: 0.3615 - val_auc: 0.9766 - 10s/epoch - 74ms/step\n",
            "Epoch 20/25\n",
            "128/128 - 10s - loss: 0.0565 - auc: 0.9992 - val_loss: 0.5157 - val_auc: 0.9655 - 10s/epoch - 74ms/step\n",
            "Epoch 21/25\n",
            "128/128 - 10s - loss: 0.0548 - auc: 0.9994 - val_loss: 0.4885 - val_auc: 0.9707 - 10s/epoch - 74ms/step\n",
            "Epoch 22/25\n",
            "128/128 - 10s - loss: 0.0391 - auc: 0.9994 - val_loss: 0.4111 - val_auc: 0.9752 - 10s/epoch - 75ms/step\n",
            "Epoch 23/25\n",
            "128/128 - 10s - loss: 0.0680 - auc: 0.9986 - val_loss: 0.4471 - val_auc: 0.9709 - 10s/epoch - 79ms/step\n",
            "Epoch 24/25\n",
            "128/128 - 10s - loss: 0.0415 - auc: 0.9995 - val_loss: 0.4794 - val_auc: 0.9704 - 10s/epoch - 74ms/step\n",
            "Epoch 25/25\n",
            "128/128 - 10s - loss: 0.0496 - auc: 0.9990 - val_loss: 0.4071 - val_auc: 0.9779 - 10s/epoch - 75ms/step\n"
          ]
        }
      ],
      "source": [
        "conv_base = InceptionV3(weights = 'imagenet', include_top = False, input_shape = (*IMG_SIZE, 3))\n",
        "freeze_layers(conv_base,trainable_layers='none')\n",
        "model = build_transfer_model(conv_base,dropout=0.4,dense_node =512,learn_rate=0.001,metric=metrics)\n",
        "tic = time.perf_counter()\n",
        "history = model.fit(\n",
        "    train_gen,\n",
        "    epochs           = EPOCHS,\n",
        "    validation_data  = val_gen,\n",
        "    verbose          = 2,\n",
        "   # callbacks        = callbacks  \n",
        ")\n",
        "\n"
      ]
    },
    {
      "cell_type": "code",
      "execution_count": 18,
      "id": "3bebd560",
      "metadata": {
        "execution": {
          "iopub.execute_input": "2022-06-06T05:55:06.915458Z",
          "iopub.status.busy": "2022-06-06T05:55:06.914973Z",
          "iopub.status.idle": "2022-06-06T05:55:10.362441Z",
          "shell.execute_reply": "2022-06-06T05:55:10.361471Z"
        },
        "papermill": {
          "duration": 3.479896,
          "end_time": "2022-06-06T05:55:10.365285",
          "exception": false,
          "start_time": "2022-06-06T05:55:06.885389",
          "status": "completed"
        },
        "tags": [],
        "id": "3bebd560",
        "outputId": "10ca7cc6-e89a-463e-95f4-d7be3a7fdd04",
        "colab": {
          "base_uri": "https://localhost:8080/"
        }
      },
      "outputs": [
        {
          "output_type": "stream",
          "name": "stdout",
          "text": [
            "40/40 [==============================] - 4s 59ms/step\n"
          ]
        }
      ],
      "source": [
        "y_prob = model.predict(test_gen)\n",
        "y_pred = y_prob.argmax(axis=-1)\n",
        "\n",
        "y_actual = test_gen.classes\n"
      ]
    },
    {
      "cell_type": "code",
      "execution_count": 19,
      "id": "2b2b3b01",
      "metadata": {
        "execution": {
          "iopub.execute_input": "2022-06-06T05:55:10.423291Z",
          "iopub.status.busy": "2022-06-06T05:55:10.422923Z",
          "iopub.status.idle": "2022-06-06T05:55:12.859468Z",
          "shell.execute_reply": "2022-06-06T05:55:12.858289Z"
        },
        "papermill": {
          "duration": 2.468996,
          "end_time": "2022-06-06T05:55:12.862276",
          "exception": false,
          "start_time": "2022-06-06T05:55:10.393280",
          "status": "completed"
        },
        "tags": [],
        "id": "2b2b3b01",
        "outputId": "19902f6e-8156-49c7-82e6-1a3115df6ca4",
        "colab": {
          "base_uri": "https://localhost:8080/",
          "height": 1000
        }
      },
      "outputs": [
        {
          "output_type": "stream",
          "name": "stdout",
          "text": [
            "\n",
            " Model AUC on Test Data:83.0%\n",
            "------------------------------\n",
            "              precision    recall  f1-score   support\n",
            "\n",
            "        mild       0.66      0.22      0.33       179\n",
            "    moderate       1.00      0.08      0.15        12\n",
            "      normal       0.80      0.61      0.69       640\n",
            "   very-mild       0.50      0.81      0.62       448\n",
            "\n",
            "    accuracy                           0.62      1279\n",
            "   macro avg       0.74      0.43      0.45      1279\n",
            "weighted avg       0.68      0.62      0.61      1279\n",
            "\n"
          ]
        },
        {
          "output_type": "display_data",
          "data": {
            "text/plain": [
              "<Figure size 864x864 with 1 Axes>"
            ],
            "image/png": "[encoded data removed]"
          },
          "metadata": {
            "needs_background": "light"
          }
        }
      ],
      "source": [
        "def plot_training_metrics(train_hist,model,test_gen,y_actual,y_pred,classes):\n",
        "\n",
        "    test_loss, test_metric = model.evaluate(test_gen,verbose = False)\n",
        "    results       = round(test_metric,2)*100 \n",
        "    results_title =\"\\n Model AUC on Test Data:{}%\".format(results)\n",
        "    print(results_title.format(results))\n",
        "    print(len(results_title) * \"-\")\n",
        "    \n",
        "    print(classification_report(y_actual, y_pred, target_names=classes))\n",
        "\n",
        "    history_dict    = train_hist.history\n",
        "    loss_values     = history_dict['loss']\n",
        "    val_loss_values = history_dict['val_loss']\n",
        "    auc_values      = history_dict['auc']\n",
        "    val_auc_values  = history_dict['val_auc']\n",
        "    epochs          = range(1, len(history_dict['auc']) + 1)\n",
        "\n",
        "    max_auc = np.max(val_auc_values)\n",
        "    min_loss = np.min(val_loss_values)\n",
        "    plt.subplots(figsize=(12,12))\n",
        "    cm = confusion_matrix(y_actual, y_pred)\n",
        "\n",
        "    plt.imshow(cm, interpolation='nearest', cmap=plt.cm.BuPu)\n",
        "    plt.title(\"Confusion Matrix \\n AUC:{}%\".format(results))\n",
        "    tick_marks = np.arange(len(classes))\n",
        "    plt.xticks(tick_marks, classes, rotation=45)\n",
        "    plt.yticks(tick_marks, classes)\n",
        "\n",
        "    threshold = cm.max() / 2.\n",
        "    for r, c in itertools.product(range(cm.shape[0]), range(cm.shape[1])):\n",
        "        plt.text(c, r, format(cm[r, c], 'd'),\n",
        "                 horizontalalignment=\"center\",\n",
        "                 color=\"white\" if cm[r, c] > threshold else \"black\")\n",
        "\n",
        "    plt.ylabel('True label')\n",
        "    plt.xlabel('Predicted label')\n",
        "    plt.tight_layout()\n",
        "    plt.show()\n",
        "plot_training_metrics(history,model,test_gen,y_actual,y_pred,['mild','moderate','normal','very-mild'])"
      ]
    },
    {
      "cell_type": "code",
      "execution_count": 27,
      "id": "822995ca",
      "metadata": {
        "execution": {
          "iopub.execute_input": "2022-06-06T05:55:12.923305Z",
          "iopub.status.busy": "2022-06-06T05:55:12.922254Z",
          "iopub.status.idle": "2022-06-06T05:56:13.433544Z",
          "shell.execute_reply": "2022-06-06T05:56:13.432257Z"
        },
        "papermill": {
          "duration": 60.546226,
          "end_time": "2022-06-06T05:56:13.437821",
          "exception": false,
          "start_time": "2022-06-06T05:55:12.891595",
          "status": "completed"
        },
        "tags": [],
        "id": "822995ca"
      },
      "outputs": [],
      "source": [
        "model.save(\"/content/gdrive/MyDrive/Azymer_dieases_detection/models1/model.h5\")"
      ]
    },
    {
      "cell_type": "code",
      "execution_count": 25,
      "id": "e9440c71",
      "metadata": {
        "execution": {
          "iopub.execute_input": "2022-06-06T05:56:13.515955Z",
          "iopub.status.busy": "2022-06-06T05:56:13.515502Z",
          "iopub.status.idle": "2022-06-06T05:56:33.158672Z",
          "shell.execute_reply": "2022-06-06T05:56:33.157390Z"
        },
        "papermill": {
          "duration": 19.694821,
          "end_time": "2022-06-06T05:56:33.161531",
          "exception": false,
          "start_time": "2022-06-06T05:56:13.466710",
          "status": "completed"
        },
        "tags": [],
        "id": "e9440c71",
        "outputId": "1f40868a-fce1-43c1-fcf4-d214357b59db",
        "colab": {
          "base_uri": "https://localhost:8080/",
          "height": 328
        }
      },
      "outputs": [
        {
          "output_type": "error",
          "ename": "OSError",
          "evalue": "ignored",
          "traceback": [
            "\u001b[0;31m---------------------------------------------------------------------------\u001b[0m",
            "\u001b[0;31mOSError\u001b[0m                                   Traceback (most recent call last)",
            "\u001b[0;32m<ipython-input-25-4c549e927a00>\u001b[0m in \u001b[0;36m<module>\u001b[0;34m\u001b[0m\n\u001b[0;32m----> 1\u001b[0;31m \u001b[0mimported\u001b[0m \u001b[0;34m=\u001b[0m \u001b[0mtf\u001b[0m\u001b[0;34m.\u001b[0m\u001b[0msaved_model\u001b[0m\u001b[0;34m.\u001b[0m\u001b[0mload\u001b[0m\u001b[0;34m(\u001b[0m\u001b[0;34m'/content/gdrive/MyDrive/Azymer_dieases_detection/models'\u001b[0m\u001b[0;34m)\u001b[0m\u001b[0;34m\u001b[0m\u001b[0;34m\u001b[0m\u001b[0m\n\u001b[0m",
            "\u001b[0;32m/usr/local/lib/python3.7/dist-packages/tensorflow/python/saved_model/load.py\u001b[0m in \u001b[0;36mload\u001b[0;34m(export_dir, tags, options)\u001b[0m\n\u001b[1;32m    780\u001b[0m   \u001b[0;32mif\u001b[0m \u001b[0misinstance\u001b[0m\u001b[0;34m(\u001b[0m\u001b[0mexport_dir\u001b[0m\u001b[0;34m,\u001b[0m \u001b[0mos\u001b[0m\u001b[0;34m.\u001b[0m\u001b[0mPathLike\u001b[0m\u001b[0;34m)\u001b[0m\u001b[0;34m:\u001b[0m\u001b[0;34m\u001b[0m\u001b[0;34m\u001b[0m\u001b[0m\n\u001b[1;32m    781\u001b[0m     \u001b[0mexport_dir\u001b[0m \u001b[0;34m=\u001b[0m \u001b[0mos\u001b[0m\u001b[0;34m.\u001b[0m\u001b[0mfspath\u001b[0m\u001b[0;34m(\u001b[0m\u001b[0mexport_dir\u001b[0m\u001b[0;34m)\u001b[0m\u001b[0;34m\u001b[0m\u001b[0;34m\u001b[0m\u001b[0m\n\u001b[0;32m--> 782\u001b[0;31m   \u001b[0mresult\u001b[0m \u001b[0;34m=\u001b[0m \u001b[0mload_partial\u001b[0m\u001b[0;34m(\u001b[0m\u001b[0mexport_dir\u001b[0m\u001b[0;34m,\u001b[0m \u001b[0;32mNone\u001b[0m\u001b[0;34m,\u001b[0m \u001b[0mtags\u001b[0m\u001b[0;34m,\u001b[0m \u001b[0moptions\u001b[0m\u001b[0;34m)\u001b[0m\u001b[0;34m[\u001b[0m\u001b[0;34m\"root\"\u001b[0m\u001b[0;34m]\u001b[0m\u001b[0;34m\u001b[0m\u001b[0;34m\u001b[0m\u001b[0m\n\u001b[0m\u001b[1;32m    783\u001b[0m   \u001b[0;32mreturn\u001b[0m \u001b[0mresult\u001b[0m\u001b[0;34m\u001b[0m\u001b[0;34m\u001b[0m\u001b[0m\n\u001b[1;32m    784\u001b[0m \u001b[0;34m\u001b[0m\u001b[0m\n",
            "\u001b[0;32m/usr/local/lib/python3.7/dist-packages/tensorflow/python/saved_model/load.py\u001b[0m in \u001b[0;36mload_partial\u001b[0;34m(export_dir, filters, tags, options)\u001b[0m\n\u001b[1;32m    885\u001b[0m     \u001b[0mtags\u001b[0m \u001b[0;34m=\u001b[0m \u001b[0mnest\u001b[0m\u001b[0;34m.\u001b[0m\u001b[0mflatten\u001b[0m\u001b[0;34m(\u001b[0m\u001b[0mtags\u001b[0m\u001b[0;34m)\u001b[0m\u001b[0;34m\u001b[0m\u001b[0;34m\u001b[0m\u001b[0m\n\u001b[1;32m    886\u001b[0m   saved_model_proto, debug_info = (\n\u001b[0;32m--> 887\u001b[0;31m       loader_impl.parse_saved_model_with_debug_info(export_dir))\n\u001b[0m\u001b[1;32m    888\u001b[0m \u001b[0;34m\u001b[0m\u001b[0m\n\u001b[1;32m    889\u001b[0m   if (len(saved_model_proto.meta_graphs) == 1 and\n",
            "\u001b[0;32m/usr/local/lib/python3.7/dist-packages/tensorflow/python/saved_model/loader_impl.py\u001b[0m in \u001b[0;36mparse_saved_model_with_debug_info\u001b[0;34m(export_dir)\u001b[0m\n\u001b[1;32m     55\u001b[0m     \u001b[0mparsed\u001b[0m\u001b[0;34m.\u001b[0m \u001b[0mMissing\u001b[0m \u001b[0mgraph\u001b[0m \u001b[0mdebug\u001b[0m \u001b[0minfo\u001b[0m \u001b[0mfile\u001b[0m \u001b[0;32mis\u001b[0m \u001b[0mfine\u001b[0m\u001b[0;34m.\u001b[0m\u001b[0;34m\u001b[0m\u001b[0;34m\u001b[0m\u001b[0m\n\u001b[1;32m     56\u001b[0m   \"\"\"\n\u001b[0;32m---> 57\u001b[0;31m   \u001b[0msaved_model\u001b[0m \u001b[0;34m=\u001b[0m \u001b[0mparse_saved_model\u001b[0m\u001b[0;34m(\u001b[0m\u001b[0mexport_dir\u001b[0m\u001b[0;34m)\u001b[0m\u001b[0;34m\u001b[0m\u001b[0;34m\u001b[0m\u001b[0m\n\u001b[0m\u001b[1;32m     58\u001b[0m \u001b[0;34m\u001b[0m\u001b[0m\n\u001b[1;32m     59\u001b[0m   debug_info_path = file_io.join(\n",
            "\u001b[0;32m/usr/local/lib/python3.7/dist-packages/tensorflow/python/saved_model/loader_impl.py\u001b[0m in \u001b[0;36mparse_saved_model\u001b[0;34m(export_dir)\u001b[0m\n\u001b[1;32m    114\u001b[0m   \u001b[0;32melse\u001b[0m\u001b[0;34m:\u001b[0m\u001b[0;34m\u001b[0m\u001b[0;34m\u001b[0m\u001b[0m\n\u001b[1;32m    115\u001b[0m     raise IOError(\n\u001b[0;32m--> 116\u001b[0;31m         \u001b[0;34mf\"SavedModel file does not exist at: {export_dir}{os.path.sep}\"\u001b[0m\u001b[0;34m\u001b[0m\u001b[0;34m\u001b[0m\u001b[0m\n\u001b[0m\u001b[1;32m    117\u001b[0m         \u001b[0;34mf\"{{{constants.SAVED_MODEL_FILENAME_PBTXT}|\"\u001b[0m\u001b[0;34m\u001b[0m\u001b[0;34m\u001b[0m\u001b[0m\n\u001b[1;32m    118\u001b[0m         f\"{constants.SAVED_MODEL_FILENAME_PB}}}\")\n",
            "\u001b[0;31mOSError\u001b[0m: SavedModel file does not exist at: /content/gdrive/MyDrive/Azymer_dieases_detection/models/{saved_model.pbtxt|saved_model.pb}"
          ]
        }
      ],
      "source": [
        "imported = tf.saved_model.load('./models/base_model')"
      ]
    },
    {
      "cell_type": "code",
      "execution_count": 22,
      "id": "9544a272",
      "metadata": {
        "execution": {
          "iopub.execute_input": "2022-06-06T05:56:33.218776Z",
          "iopub.status.busy": "2022-06-06T05:56:33.218344Z",
          "iopub.status.idle": "2022-06-06T05:56:35.148293Z",
          "shell.execute_reply": "2022-06-06T05:56:35.147200Z"
        },
        "papermill": {
          "duration": 1.96152,
          "end_time": "2022-06-06T05:56:35.151084",
          "exception": false,
          "start_time": "2022-06-06T05:56:33.189564",
          "status": "completed"
        },
        "tags": [],
        "id": "9544a272",
        "outputId": "e2872dc6-54f3-48fc-9716-6778e21d7c38",
        "colab": {
          "base_uri": "https://localhost:8080/"
        }
      },
      "outputs": [
        {
          "output_type": "stream",
          "name": "stdout",
          "text": [
            "40/40 [==============================] - 2s 59ms/step\n"
          ]
        }
      ],
      "source": [
        "y_prob = model.predict(test_gen)\n",
        "y_pred = y_prob.argmax(axis=-1)\n",
        "\n",
        "y_actual = test_gen.classes"
      ]
    },
    {
      "cell_type": "code",
      "execution_count": 23,
      "id": "3834dc21",
      "metadata": {
        "execution": {
          "iopub.execute_input": "2022-06-06T05:56:35.211329Z",
          "iopub.status.busy": "2022-06-06T05:56:35.210325Z",
          "iopub.status.idle": "2022-06-06T05:56:35.217331Z",
          "shell.execute_reply": "2022-06-06T05:56:35.216256Z"
        },
        "papermill": {
          "duration": 0.041697,
          "end_time": "2022-06-06T05:56:35.221263",
          "exception": false,
          "start_time": "2022-06-06T05:56:35.179566",
          "status": "completed"
        },
        "tags": [],
        "id": "3834dc21",
        "outputId": "cabccc53-77ed-4fb2-d32e-f5112c2b918e",
        "colab": {
          "base_uri": "https://localhost:8080/"
        }
      },
      "outputs": [
        {
          "output_type": "stream",
          "name": "stdout",
          "text": [
            "Predicted Class:  MildDememted                   Actual Class:  MildDememted\n",
            "Predicted Class:  VeryMildDemented                   Actual Class:  MildDememted\n",
            "Predicted Class:  MildDememted                   Actual Class:  MildDememted\n",
            "Predicted Class:  VeryMildDemented                   Actual Class:  MildDememted\n",
            "Predicted Class:  VeryMildDemented                   Actual Class:  MildDememted\n",
            "Predicted Class:  VeryMildDemented                   Actual Class:  MildDememted\n",
            "Predicted Class:  VeryMildDemented                   Actual Class:  MildDememted\n",
            "Predicted Class:  VeryMildDemented                   Actual Class:  MildDememted\n",
            "Predicted Class:  MildDememted                   Actual Class:  MildDememted\n",
            "Predicted Class:  MildDememted                   Actual Class:  MildDememted\n"
          ]
        }
      ],
      "source": [
        "for i in range(0,10):\n",
        "    print('Predicted Class:  '+CLASS_LIST[y_pred[i]]+'                   Actual Class:  ' + CLASS_LIST[y_actual[i]])"
      ]
    },
    {
      "cell_type": "code",
      "source": [
        "from google.colab import drive\n",
        "drive.mount('/content/drive')"
      ],
      "metadata": {
        "id": "RYtSSAdoahRq"
      },
      "id": "RYtSSAdoahRq",
      "execution_count": null,
      "outputs": []
    },
    {
      "cell_type": "code",
      "execution_count": null,
      "id": "2d1a6878",
      "metadata": {
        "papermill": {
          "duration": 0.028773,
          "end_time": "2022-06-06T05:56:35.279528",
          "exception": false,
          "start_time": "2022-06-06T05:56:35.250755",
          "status": "completed"
        },
        "tags": [],
        "id": "2d1a6878"
      },
      "outputs": [],
      "source": []
    }
  ],
  "metadata": {
    "kernelspec": {
      "display_name": "Python 3",
      "language": "python",
      "name": "python3"
    },
    "language_info": {
      "codemirror_mode": {
        "name": "ipython",
        "version": 3
      },
      "file_extension": ".py",
      "mimetype": "text/x-python",
      "name": "python",
      "nbconvert_exporter": "python",
      "pygments_lexer": "ipython3",
      "version": "3.7.12"
    },
    "papermill": {
      "default_parameters": {},
      "duration": 455.951489,
      "end_time": "2022-06-06T05:56:39.081507",
      "environment_variables": {},
      "exception": null,
      "input_path": "__notebook__.ipynb",
      "output_path": "__notebook__.ipynb",
      "parameters": {},
      "start_time": "2022-06-06T05:49:03.130018",
      "version": "2.3.4"
    },
    "colab": {
      "provenance": []
    },
    "accelerator": "GPU",
    "gpuClass": "standard"
  },
  "nbformat": 4,
  "nbformat_minor": 5
}